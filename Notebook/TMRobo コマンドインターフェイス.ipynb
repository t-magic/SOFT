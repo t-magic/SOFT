{
 "cells": [
  {
   "cell_type": "markdown",
   "metadata": {},
   "source": [
    "# TMRobo コマンドインターフェイス\n",
    "TMRoboは、GUIを使って、入力ファイルと列番号を指定することにより、分析を開始しますが、分析をバッチ処理することができるように、コマンドインターフェイスを作成しました。たとえば、\n",
    "1. 実行ファイル: C:/PumpkinPyParser/PumpkinPyParser2.exe\n",
    "1. 入力ファイル: F:/GitHub/PPMP/data/foundation/foundation.csv\n",
    "1. 列番号: 3\n",
    "\n",
    "の場合は、以下のようにするとバッチ処理できます。"
   ]
  },
  {
   "cell_type": "code",
   "execution_count": 1,
   "metadata": {},
   "outputs": [
    {
     "data": {
      "text/plain": [
       "0"
      ]
     },
     "execution_count": 1,
     "metadata": {},
     "output_type": "execute_result"
    }
   ],
   "source": [
    "import subprocess\n",
    "cmd = 'C:/PumpkinPyParser/PumpkinPyParser2.exe F:/data/foundation/foundation.csv 3'\n",
    "subprocess.call(cmd, shell=True)"
   ]
  },
  {
   "cell_type": "markdown",
   "metadata": {},
   "source": [
    "コマンドからGUIを立ち上げる場合は以下のようにします。"
   ]
  },
  {
   "cell_type": "code",
   "execution_count": 2,
   "metadata": {},
   "outputs": [
    {
     "data": {
      "text/plain": [
       "0"
      ]
     },
     "execution_count": 2,
     "metadata": {},
     "output_type": "execute_result"
    }
   ],
   "source": [
    "subprocess.call('C:/PumpkinPyParser/PumpkinPyParser2.exe', shell=True)"
   ]
  },
  {
   "cell_type": "markdown",
   "metadata": {},
   "source": [
    "[バッチがわりに Python を使うときは、 os.system よりも subprocess.call を使おう - methaneのブログ](https://methane.hatenablog.jp/entry/20110509/1304956974)"
   ]
  }
 ],
 "metadata": {
  "kernelspec": {
   "display_name": "Python 3",
   "language": "python",
   "name": "python3"
  },
  "language_info": {
   "codemirror_mode": {
    "name": "ipython",
    "version": 3
   },
   "file_extension": ".py",
   "mimetype": "text/x-python",
   "name": "python",
   "nbconvert_exporter": "python",
   "pygments_lexer": "ipython3",
   "version": "3.6.5"
  }
 },
 "nbformat": 4,
 "nbformat_minor": 2
}
