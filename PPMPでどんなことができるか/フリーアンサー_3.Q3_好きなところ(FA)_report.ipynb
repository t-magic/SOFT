{
 "cells": [
  {
   "cell_type": "markdown",
   "metadata": {},
   "source": [
    "# 解析レポート\n",
    "### フリーアンサー:Q3_好きなところ(FA) (3列目)"
   ]
  },
  {
   "cell_type": "code",
   "execution_count": 2,
   "metadata": {},
   "outputs": [],
   "source": [
    "%matplotlib inline\n",
    "import pandas as pd\n",
    "import sys\n",
    "sys.path.append('G:/SVN/TamaoProject/TextMagicKnime2Jupyter/progs')\n",
    "from tm_viz import *"
   ]
  },
  {
   "cell_type": "markdown",
   "metadata": {
    "collapsed": true
   },
   "source": [
    "# 目次\n",
    "| 目次 | 番号 | 親番号 | 種別 | 件数 | 積算件数 |\n",
    "|:-----------|:------------:|:------------:|:-----------|------------:|------------:|\n",
    "| [0 全体](#0-全体) | 0 | - | - | 10859 | 10859 |\n",
    "| [1 検索](#1-検索) | 1 | 0 | 3: 肌 | 2259 | 2259 |\n",
    "| [2 検索](#2-検索) | 2 | 1 | 3: カバー力 | 783 | 79 |\n",
    "| [3 検索](#3-検索) | 3 | 0 | 3: カバー力, 肌 | 2963 | 2963 |\n",
    "| [4 属性](#4-属性) | 4 | 0 | 8: Q7_年代(V)=19歳以下 | 313 | 313 |\n",
    "| [5 属性](#5-属性) | 5 | 0 | 8: Q7_年代(V)=20-24歳 | 1260 | 1260 |\n",
    "| [6 属性](#6-属性) | 6 | 0 | 8: Q7_年代(V)=25-29歳 | 2310 | 2310 |\n",
    "| [7 属性](#7-属性) | 7 | 0 | 8: Q7_年代(V)=30-34歳 | 2792 | 2792 |\n",
    "| [8 属性](#8-属性) | 8 | 0 | 8: Q7_年代(V)=35-39歳 | 1774 | 1774 |\n",
    "| [9 属性](#9-属性) | 9 | 0 | 8: Q7_年代(V)=40-49歳 | 1761 | 1761 |\n",
    "| [10 属性](#10-属性) | 10 | 0 | 8: Q7_年代(V)=50-59歳 | 542 | 542 |\n",
    "| [11 属性](#11-属性) | 11 | 0 | 8: Q7_年代(V)=60歳以上 | 107 | 107 |\n",
    "| [12 集合](#12-集合) | 12 | 0 | 和: 集合演算 | 649 | 649 |\n",
    "| [13 集合](#13-集合) | 13 | 0 | 差: 集合演算 | 542 | 542 |\n",
    "| [14 集合](#14-集合) | 14 | 0 | 積: 集合演算 | 107 | 107 |\n"
   ]
  },
  {
   "cell_type": "markdown",
   "metadata": {},
   "source": [
    "----"
   ]
  },
  {
   "cell_type": "markdown",
   "metadata": {},
   "source": [
    "# 0 全体\n"
   ]
  },
  {
   "cell_type": "markdown",
   "metadata": {},
   "source": [
    "## モザイクプロット"
   ]
  },
  {
   "cell_type": "markdown",
   "metadata": {},
   "source": [
    "* 0 全体\n",
    "![モザイクプロット](viz/foundation_0_全体_8.Q7_年代x11.Q10_購入場所_mosaic_plot_8-11_utf8.svg)\n"
   ]
  },
  {
   "cell_type": "markdown",
   "metadata": {},
   "source": [
    "## 語表\n"
   ]
  },
  {
   "cell_type": "code",
   "execution_count": 3,
   "metadata": {},
   "outputs": [
    {
     "data": {
      "text/html": [
       "<div>\n",
       "<style>\n",
       "    .dataframe thead tr:only-child th {\n",
       "        text-align: right;\n",
       "    }\n",
       "\n",
       "    .dataframe thead th {\n",
       "        text-align: left;\n",
       "    }\n",
       "\n",
       "    .dataframe tbody tr th {\n",
       "        vertical-align: top;\n",
       "    }\n",
       "</style>\n",
       "<table border=\"1\" class=\"dataframe\">\n",
       "  <thead>\n",
       "    <tr style=\"text-align: right;\">\n",
       "      <th></th>\n",
       "      <th>名詞(複合語)</th>\n",
       "      <th>(回数)</th>\n",
       "      <th>形容詞</th>\n",
       "      <th>(回数).1</th>\n",
       "      <th>動詞</th>\n",
       "      <th>(回数).2</th>\n",
       "      <th>副詞</th>\n",
       "      <th>(回数).3</th>\n",
       "      <th>連体詞</th>\n",
       "      <th>(回数).4</th>\n",
       "      <th>接続詞</th>\n",
       "      <th>(回数).5</th>\n",
       "    </tr>\n",
       "  </thead>\n",
       "  <tbody>\n",
       "    <tr>\n",
       "      <th>0</th>\n",
       "      <td>肌</td>\n",
       "      <td>2351</td>\n",
       "      <td>安い</td>\n",
       "      <td>1022.0</td>\n",
       "      <td>する</td>\n",
       "      <td>1916.0</td>\n",
       "      <td>しっとり</td>\n",
       "      <td>313.0</td>\n",
       "      <td>同じ</td>\n",
       "      <td>24.0</td>\n",
       "      <td>また</td>\n",
       "      <td>38.0</td>\n",
       "    </tr>\n",
       "    <tr>\n",
       "      <th>1</th>\n",
       "      <td>価格#</td>\n",
       "      <td>876</td>\n",
       "      <td>良い</td>\n",
       "      <td>958.0</td>\n",
       "      <td>ある</td>\n",
       "      <td>1454.0</td>\n",
       "      <td>よく</td>\n",
       "      <td>310.0</td>\n",
       "      <td>この</td>\n",
       "      <td>24.0</td>\n",
       "      <td>てか</td>\n",
       "      <td>9.0</td>\n",
       "    </tr>\n",
       "    <tr>\n",
       "      <th>2</th>\n",
       "      <td>カバー力</td>\n",
       "      <td>785</td>\n",
       "      <td>いい</td>\n",
       "      <td>799.0</td>\n",
       "      <td>なじむ#</td>\n",
       "      <td>1192.0</td>\n",
       "      <td>特に</td>\n",
       "      <td>239.0</td>\n",
       "      <td>その</td>\n",
       "      <td>17.0</td>\n",
       "      <td>しかも</td>\n",
       "      <td>9.0</td>\n",
       "    </tr>\n",
       "    <tr>\n",
       "      <th>3</th>\n",
       "      <td>自然</td>\n",
       "      <td>726</td>\n",
       "      <td>よい</td>\n",
       "      <td>739.0</td>\n",
       "      <td>なる</td>\n",
       "      <td>682.0</td>\n",
       "      <td>しっかり</td>\n",
       "      <td>145.0</td>\n",
       "      <td>どの</td>\n",
       "      <td>6.0</td>\n",
       "      <td>でも</td>\n",
       "      <td>8.0</td>\n",
       "    </tr>\n",
       "    <tr>\n",
       "      <th>4</th>\n",
       "      <td>色</td>\n",
       "      <td>685</td>\n",
       "      <td>ない</td>\n",
       "      <td>708.0</td>\n",
       "      <td>使う</td>\n",
       "      <td>551.0</td>\n",
       "      <td>とても</td>\n",
       "      <td>124.0</td>\n",
       "      <td>いろんな</td>\n",
       "      <td>4.0</td>\n",
       "      <td>そして</td>\n",
       "      <td>6.0</td>\n",
       "    </tr>\n",
       "    <tr>\n",
       "      <th>5</th>\n",
       "      <td>伸び</td>\n",
       "      <td>602</td>\n",
       "      <td>細かい</td>\n",
       "      <td>292.0</td>\n",
       "      <td>のびる</td>\n",
       "      <td>530.0</td>\n",
       "      <td>あまり</td>\n",
       "      <td>89.0</td>\n",
       "      <td>色んな</td>\n",
       "      <td>3.0</td>\n",
       "      <td>又</td>\n",
       "      <td>4.0</td>\n",
       "    </tr>\n",
       "    <tr>\n",
       "      <th>6</th>\n",
       "      <td>綺麗#</td>\n",
       "      <td>577</td>\n",
       "      <td>軽い</td>\n",
       "      <td>200.0</td>\n",
       "      <td>できる</td>\n",
       "      <td>345.0</td>\n",
       "      <td>さらさら</td>\n",
       "      <td>84.0</td>\n",
       "      <td>そんな</td>\n",
       "      <td>3.0</td>\n",
       "      <td>ただ</td>\n",
       "      <td>3.0</td>\n",
       "    </tr>\n",
       "    <tr>\n",
       "      <th>7</th>\n",
       "      <td>感じ</td>\n",
       "      <td>484</td>\n",
       "      <td>少ない</td>\n",
       "      <td>197.0</td>\n",
       "      <td>見える</td>\n",
       "      <td>311.0</td>\n",
       "      <td>ずっと</td>\n",
       "      <td>59.0</td>\n",
       "      <td>どんな</td>\n",
       "      <td>2.0</td>\n",
       "      <td>それでいて</td>\n",
       "      <td>3.0</td>\n",
       "    </tr>\n",
       "    <tr>\n",
       "      <th>8</th>\n",
       "      <td>自分</td>\n",
       "      <td>469</td>\n",
       "      <td>優しい</td>\n",
       "      <td>177.0</td>\n",
       "      <td>崩れる</td>\n",
       "      <td>260.0</td>\n",
       "      <td>サラサラ</td>\n",
       "      <td>44.0</td>\n",
       "      <td>あの</td>\n",
       "      <td>1.0</td>\n",
       "      <td>ないし</td>\n",
       "      <td>2.0</td>\n",
       "    </tr>\n",
       "    <tr>\n",
       "      <th>9</th>\n",
       "      <td>仕上がり</td>\n",
       "      <td>414</td>\n",
       "      <td>薄い</td>\n",
       "      <td>130.0</td>\n",
       "      <td>気に入る</td>\n",
       "      <td>260.0</td>\n",
       "      <td>なんとなく</td>\n",
       "      <td>42.0</td>\n",
       "      <td>そういう</td>\n",
       "      <td>1.0</td>\n",
       "      <td>が</td>\n",
       "      <td>2.0</td>\n",
       "    </tr>\n",
       "  </tbody>\n",
       "</table>\n",
       "</div>"
      ],
      "text/plain": [
       "  名詞(複合語)  (回数)  形容詞  (回数).1    動詞  (回数).2     副詞  (回数).3   連体詞  (回数).4  \\\n",
       "0       肌  2351   安い  1022.0    する  1916.0   しっとり   313.0    同じ    24.0   \n",
       "1     価格#   876   良い   958.0    ある  1454.0     よく   310.0    この    24.0   \n",
       "2    カバー力   785   いい   799.0  なじむ#  1192.0     特に   239.0    その    17.0   \n",
       "3      自然   726   よい   739.0    なる   682.0   しっかり   145.0    どの     6.0   \n",
       "4       色   685   ない   708.0    使う   551.0    とても   124.0  いろんな     4.0   \n",
       "5      伸び   602  細かい   292.0   のびる   530.0    あまり    89.0   色んな     3.0   \n",
       "6     綺麗#   577   軽い   200.0   できる   345.0   さらさら    84.0   そんな     3.0   \n",
       "7      感じ   484  少ない   197.0   見える   311.0    ずっと    59.0   どんな     2.0   \n",
       "8      自分   469  優しい   177.0   崩れる   260.0   サラサラ    44.0    あの     1.0   \n",
       "9    仕上がり   414   薄い   130.0  気に入る   260.0  なんとなく    42.0  そういう     1.0   \n",
       "\n",
       "     接続詞  (回数).5  \n",
       "0     また    38.0  \n",
       "1     てか     9.0  \n",
       "2    しかも     9.0  \n",
       "3     でも     8.0  \n",
       "4    そして     6.0  \n",
       "5      又     4.0  \n",
       "6     ただ     3.0  \n",
       "7  それでいて     3.0  \n",
       "8    ないし     2.0  \n",
       "9      が     2.0  "
      ]
     },
     "execution_count": 3,
     "metadata": {},
     "output_type": "execute_result"
    }
   ],
   "source": [
    "x = pd.read_csv('viz/foundation_0_sorted_pos_word_stat_utf8.csv', encoding='utf8', index_col=None)\n",
    "#x.ix[:10, :]\n",
    "x.iloc[:10, :]"
   ]
  },
  {
   "cell_type": "markdown",
   "metadata": {},
   "source": [
    "## 係り受け表"
   ]
  },
  {
   "cell_type": "code",
   "execution_count": 4,
   "metadata": {},
   "outputs": [
    {
     "data": {
      "text/html": [
       "<div>\n",
       "<style>\n",
       "    .dataframe thead tr:only-child th {\n",
       "        text-align: right;\n",
       "    }\n",
       "\n",
       "    .dataframe thead th {\n",
       "        text-align: left;\n",
       "    }\n",
       "\n",
       "    .dataframe tbody tr th {\n",
       "        vertical-align: top;\n",
       "    }\n",
       "</style>\n",
       "<table border=\"1\" class=\"dataframe\">\n",
       "  <thead>\n",
       "    <tr style=\"text-align: right;\">\n",
       "      <th></th>\n",
       "      <th>列名</th>\n",
       "      <th>回数</th>\n",
       "      <th>する</th>\n",
       "      <th>ある</th>\n",
       "      <th>なじむ#</th>\n",
       "      <th>良い</th>\n",
       "      <th>なる</th>\n",
       "      <th>いい</th>\n",
       "      <th>よい</th>\n",
       "      <th>ない</th>\n",
       "      <th>できる</th>\n",
       "      <th>使う</th>\n",
       "      <th>見える</th>\n",
       "      <th>安い</th>\n",
       "      <th>仕上がる</th>\n",
       "      <th>細かい</th>\n",
       "      <th>少ない</th>\n",
       "      <th>つく</th>\n",
       "      <th>気に入る</th>\n",
       "      <th>入る</th>\n",
       "    </tr>\n",
       "  </thead>\n",
       "  <tbody>\n",
       "    <tr>\n",
       "      <th>0</th>\n",
       "      <td>回数</td>\n",
       "      <td>NaN</td>\n",
       "      <td>3403</td>\n",
       "      <td>2217</td>\n",
       "      <td>1800</td>\n",
       "      <td>1290</td>\n",
       "      <td>1132</td>\n",
       "      <td>1062</td>\n",
       "      <td>963</td>\n",
       "      <td>937</td>\n",
       "      <td>715</td>\n",
       "      <td>608</td>\n",
       "      <td>604</td>\n",
       "      <td>504</td>\n",
       "      <td>464</td>\n",
       "      <td>340</td>\n",
       "      <td>322</td>\n",
       "      <td>315</td>\n",
       "      <td>277</td>\n",
       "      <td>276</td>\n",
       "    </tr>\n",
       "    <tr>\n",
       "      <th>1</th>\n",
       "      <td>肌</td>\n",
       "      <td>2019.0</td>\n",
       "      <td>101</td>\n",
       "      <td>104</td>\n",
       "      <td>794</td>\n",
       "      <td>40</td>\n",
       "      <td>39</td>\n",
       "      <td>16</td>\n",
       "      <td>24</td>\n",
       "      <td>19</td>\n",
       "      <td>6</td>\n",
       "      <td>2</td>\n",
       "      <td>145</td>\n",
       "      <td>0</td>\n",
       "      <td>10</td>\n",
       "      <td>0</td>\n",
       "      <td>27</td>\n",
       "      <td>20</td>\n",
       "      <td>0</td>\n",
       "      <td>0</td>\n",
       "    </tr>\n",
       "    <tr>\n",
       "      <th>2</th>\n",
       "      <td>カバー力</td>\n",
       "      <td>716.0</td>\n",
       "      <td>7</td>\n",
       "      <td>561</td>\n",
       "      <td>1</td>\n",
       "      <td>13</td>\n",
       "      <td>1</td>\n",
       "      <td>10</td>\n",
       "      <td>11</td>\n",
       "      <td>0</td>\n",
       "      <td>0</td>\n",
       "      <td>2</td>\n",
       "      <td>1</td>\n",
       "      <td>0</td>\n",
       "      <td>1</td>\n",
       "      <td>0</td>\n",
       "      <td>1</td>\n",
       "      <td>0</td>\n",
       "      <td>0</td>\n",
       "      <td>1</td>\n",
       "    </tr>\n",
       "    <tr>\n",
       "      <th>3</th>\n",
       "      <td>価格#</td>\n",
       "      <td>665.0</td>\n",
       "      <td>9</td>\n",
       "      <td>22</td>\n",
       "      <td>16</td>\n",
       "      <td>13</td>\n",
       "      <td>3</td>\n",
       "      <td>16</td>\n",
       "      <td>6</td>\n",
       "      <td>5</td>\n",
       "      <td>5</td>\n",
       "      <td>19</td>\n",
       "      <td>0</td>\n",
       "      <td>340</td>\n",
       "      <td>4</td>\n",
       "      <td>1</td>\n",
       "      <td>4</td>\n",
       "      <td>2</td>\n",
       "      <td>5</td>\n",
       "      <td>2</td>\n",
       "    </tr>\n",
       "    <tr>\n",
       "      <th>4</th>\n",
       "      <td>色</td>\n",
       "      <td>612.0</td>\n",
       "      <td>8</td>\n",
       "      <td>129</td>\n",
       "      <td>208</td>\n",
       "      <td>23</td>\n",
       "      <td>5</td>\n",
       "      <td>27</td>\n",
       "      <td>12</td>\n",
       "      <td>4</td>\n",
       "      <td>8</td>\n",
       "      <td>2</td>\n",
       "      <td>5</td>\n",
       "      <td>2</td>\n",
       "      <td>2</td>\n",
       "      <td>1</td>\n",
       "      <td>1</td>\n",
       "      <td>2</td>\n",
       "      <td>16</td>\n",
       "      <td>0</td>\n",
       "    </tr>\n",
       "    <tr>\n",
       "      <th>5</th>\n",
       "      <td>伸び</td>\n",
       "      <td>586.0</td>\n",
       "      <td>8</td>\n",
       "      <td>6</td>\n",
       "      <td>5</td>\n",
       "      <td>221</td>\n",
       "      <td>1</td>\n",
       "      <td>136</td>\n",
       "      <td>176</td>\n",
       "      <td>2</td>\n",
       "      <td>2</td>\n",
       "      <td>2</td>\n",
       "      <td>1</td>\n",
       "      <td>0</td>\n",
       "      <td>2</td>\n",
       "      <td>1</td>\n",
       "      <td>0</td>\n",
       "      <td>3</td>\n",
       "      <td>0</td>\n",
       "      <td>0</td>\n",
       "    </tr>\n",
       "    <tr>\n",
       "      <th>6</th>\n",
       "      <td>綺麗#</td>\n",
       "      <td>489.0</td>\n",
       "      <td>17</td>\n",
       "      <td>3</td>\n",
       "      <td>7</td>\n",
       "      <td>1</td>\n",
       "      <td>20</td>\n",
       "      <td>3</td>\n",
       "      <td>1</td>\n",
       "      <td>2</td>\n",
       "      <td>6</td>\n",
       "      <td>1</td>\n",
       "      <td>151</td>\n",
       "      <td>0</td>\n",
       "      <td>43</td>\n",
       "      <td>0</td>\n",
       "      <td>1</td>\n",
       "      <td>51</td>\n",
       "      <td>2</td>\n",
       "      <td>0</td>\n",
       "    </tr>\n",
       "    <tr>\n",
       "      <th>7</th>\n",
       "      <td>自然</td>\n",
       "      <td>474.0</td>\n",
       "      <td>33</td>\n",
       "      <td>21</td>\n",
       "      <td>20</td>\n",
       "      <td>5</td>\n",
       "      <td>67</td>\n",
       "      <td>9</td>\n",
       "      <td>6</td>\n",
       "      <td>3</td>\n",
       "      <td>5</td>\n",
       "      <td>1</td>\n",
       "      <td>35</td>\n",
       "      <td>6</td>\n",
       "      <td>105</td>\n",
       "      <td>1</td>\n",
       "      <td>0</td>\n",
       "      <td>15</td>\n",
       "      <td>11</td>\n",
       "      <td>4</td>\n",
       "    </tr>\n",
       "    <tr>\n",
       "      <th>8</th>\n",
       "      <td>する</td>\n",
       "      <td>470.0</td>\n",
       "      <td>59</td>\n",
       "      <td>26</td>\n",
       "      <td>19</td>\n",
       "      <td>19</td>\n",
       "      <td>14</td>\n",
       "      <td>29</td>\n",
       "      <td>9</td>\n",
       "      <td>17</td>\n",
       "      <td>16</td>\n",
       "      <td>15</td>\n",
       "      <td>5</td>\n",
       "      <td>4</td>\n",
       "      <td>6</td>\n",
       "      <td>2</td>\n",
       "      <td>4</td>\n",
       "      <td>3</td>\n",
       "      <td>6</td>\n",
       "      <td>0</td>\n",
       "    </tr>\n",
       "    <tr>\n",
       "      <th>9</th>\n",
       "      <td>のびる</td>\n",
       "      <td>415.0</td>\n",
       "      <td>7</td>\n",
       "      <td>4</td>\n",
       "      <td>3</td>\n",
       "      <td>106</td>\n",
       "      <td>5</td>\n",
       "      <td>110</td>\n",
       "      <td>147</td>\n",
       "      <td>3</td>\n",
       "      <td>2</td>\n",
       "      <td>3</td>\n",
       "      <td>2</td>\n",
       "      <td>0</td>\n",
       "      <td>3</td>\n",
       "      <td>0</td>\n",
       "      <td>2</td>\n",
       "      <td>1</td>\n",
       "      <td>0</td>\n",
       "      <td>0</td>\n",
       "    </tr>\n",
       "    <tr>\n",
       "      <th>10</th>\n",
       "      <td>感じ</td>\n",
       "      <td>379.0</td>\n",
       "      <td>95</td>\n",
       "      <td>12</td>\n",
       "      <td>9</td>\n",
       "      <td>10</td>\n",
       "      <td>31</td>\n",
       "      <td>12</td>\n",
       "      <td>12</td>\n",
       "      <td>17</td>\n",
       "      <td>1</td>\n",
       "      <td>2</td>\n",
       "      <td>5</td>\n",
       "      <td>2</td>\n",
       "      <td>61</td>\n",
       "      <td>1</td>\n",
       "      <td>1</td>\n",
       "      <td>7</td>\n",
       "      <td>8</td>\n",
       "      <td>1</td>\n",
       "    </tr>\n",
       "  </tbody>\n",
       "</table>\n",
       "</div>"
      ],
      "text/plain": [
       "      列名      回数    する    ある  なじむ#    良い    なる    いい   よい   ない  できる   使う  見える  \\\n",
       "0     回数     NaN  3403  2217  1800  1290  1132  1062  963  937  715  608  604   \n",
       "1      肌  2019.0   101   104   794    40    39    16   24   19    6    2  145   \n",
       "2   カバー力   716.0     7   561     1    13     1    10   11    0    0    2    1   \n",
       "3    価格#   665.0     9    22    16    13     3    16    6    5    5   19    0   \n",
       "4      色   612.0     8   129   208    23     5    27   12    4    8    2    5   \n",
       "5     伸び   586.0     8     6     5   221     1   136  176    2    2    2    1   \n",
       "6    綺麗#   489.0    17     3     7     1    20     3    1    2    6    1  151   \n",
       "7     自然   474.0    33    21    20     5    67     9    6    3    5    1   35   \n",
       "8     する   470.0    59    26    19    19    14    29    9   17   16   15    5   \n",
       "9    のびる   415.0     7     4     3   106     5   110  147    3    2    3    2   \n",
       "10    感じ   379.0    95    12     9    10    31    12   12   17    1    2    5   \n",
       "\n",
       "     安い  仕上がる  細かい  少ない   つく  気に入る   入る  \n",
       "0   504   464  340  322  315   277  276  \n",
       "1     0    10    0   27   20     0    0  \n",
       "2     0     1    0    1    0     0    1  \n",
       "3   340     4    1    4    2     5    2  \n",
       "4     2     2    1    1    2    16    0  \n",
       "5     0     2    1    0    3     0    0  \n",
       "6     0    43    0    1   51     2    0  \n",
       "7     6   105    1    0   15    11    4  \n",
       "8     4     6    2    4    3     6    0  \n",
       "9     0     3    0    2    1     0    0  \n",
       "10    2    61    1    1    7     8    1  "
      ]
     },
     "execution_count": 4,
     "metadata": {},
     "output_type": "execute_result"
    }
   ],
   "source": [
    "tm_viz = TMViz(['viz/foundation_0_連用_utf8.csv'])\n",
    "tm_viz.show_kakariuke_table(0, 10, 20)"
   ]
  },
  {
   "cell_type": "code",
   "execution_count": 5,
   "metadata": {},
   "outputs": [
    {
     "data": {
      "image/png": "[encoded data removed]",
      "text/plain": [
       "<matplotlib.figure.Figure at 0x21318b1ee48>"
      ]
     },
     "metadata": {},
     "output_type": "display_data"
    }
   ],
   "source": [
    "tm_viz.show_kakariuke_graph('viz/foundation_0_連用_xyz_20x20_utf8.csv', False)"
   ]
  },
  {
   "cell_type": "markdown",
   "metadata": {},
   "source": [
    "## 原文表\n",
    "* [原文表](viz/foundation_0_htext_fa3_d3w20n20e100f1.xlsx): foundation_0_htext_fa3_d3w20n20e100f1.xlsx\n"
   ]
  },
  {
   "cell_type": "markdown",
   "metadata": {},
   "source": [
    "## ウニグラフ"
   ]
  },
  {
   "cell_type": "markdown",
   "metadata": {},
   "source": [
    "* 0 全体 ([ノード数 = 20](viz/foundation_0_uni_fa3_d3w20n20e100f1_全体-fdp.svg))\n",
    "![ウニグラフ](viz/foundation_0_uni_fa3_d3w20n20e100f1_全体-fdp.svg)"
   ]
  },
  {
   "cell_type": "markdown",
   "metadata": {},
   "source": [
    "* 0 全体 ([ノード数 = 30](viz/foundation_0_uni_fa3_d3w20n30e100f1_全体-fdp.svg))\n",
    "![ウニグラフ](viz/foundation_0_uni_fa3_d3w20n30e100f1_全体-fdp.svg)"
   ]
  },
  {
   "cell_type": "markdown",
   "metadata": {},
   "source": [
    "* 0 全体 ([ノード数 = 30](viz/foundation_0_uni_fa3_d3w20n30e100f5_全体-fdp.svg))\n",
    "![ウニグラフ](viz/foundation_0_uni_fa3_d3w20n30e100f5_全体-fdp.svg)"
   ]
  },
  {
   "cell_type": "markdown",
   "metadata": {},
   "source": [
    "* 0 全体 ([ノード数 = 30](viz/foundation_0_uni_fa3_d3w20n30e200f1_全体-fdp.svg))\n",
    "![ウニグラフ](viz/foundation_0_uni_fa3_d3w20n30e200f1_全体-fdp.svg)"
   ]
  },
  {
   "cell_type": "markdown",
   "metadata": {},
   "source": [
    "* 0 全体 ([ノード数 = 50](viz/foundation_0_uni_fa3_d3w20n50e100f1_全体-fdp.svg))\n",
    "![ウニグラフ](viz/foundation_0_uni_fa3_d3w20n50e100f1_全体-fdp.svg)"
   ]
  },
  {
   "cell_type": "markdown",
   "metadata": {},
   "source": [
    "* 0 全体 ([ノード数 = 50](viz/foundation_0_uni_fa3_d3w20n50e200f1_全体-fdp.svg))\n",
    "![ウニグラフ](viz/foundation_0_uni_fa3_d3w20n50e200f1_全体-fdp.svg)"
   ]
  },
  {
   "cell_type": "markdown",
   "metadata": {},
   "source": [
    "----"
   ]
  },
  {
   "cell_type": "markdown",
   "metadata": {},
   "source": [
    "# 1 検索\n"
   ]
  },
  {
   "cell_type": "markdown",
   "metadata": {},
   "source": [
    "## 係り受け表"
   ]
  },
  {
   "cell_type": "raw",
   "metadata": {},
   "source": [
    "tm_viz = TMViz(['viz/foundation_1_連用_utf8.csv'])\n",
    "tm_viz.show_kakariuke_table(0, 10, 20)"
   ]
  },
  {
   "cell_type": "markdown",
   "metadata": {},
   "source": [
    "----"
   ]
  },
  {
   "cell_type": "markdown",
   "metadata": {},
   "source": [
    "# 2 検索\n"
   ]
  },
  {
   "cell_type": "markdown",
   "metadata": {},
   "source": [
    "## 係り受け表"
   ]
  },
  {
   "cell_type": "raw",
   "metadata": {},
   "source": [
    "tm_viz = TMViz(['viz/foundation_2_連用_utf8.csv'])\n",
    "tm_viz.show_kakariuke_table(0, 10, 20)"
   ]
  },
  {
   "cell_type": "markdown",
   "metadata": {},
   "source": [
    "----"
   ]
  },
  {
   "cell_type": "markdown",
   "metadata": {},
   "source": [
    "# 3 検索\n"
   ]
  },
  {
   "cell_type": "markdown",
   "metadata": {},
   "source": [
    "## モザイクプロット"
   ]
  },
  {
   "cell_type": "markdown",
   "metadata": {},
   "source": [
    "* 3 検索\n",
    "![モザイクプロット](viz/foundation_3_検索_8.Q7_年代x11.Q10_購入場所_mosaic_plot_8-11_utf8.svg)\n"
   ]
  },
  {
   "cell_type": "markdown",
   "metadata": {},
   "source": [
    "## 係り受け表"
   ]
  },
  {
   "cell_type": "raw",
   "metadata": {},
   "source": [
    "tm_viz = TMViz(['viz/foundation_3_連用_utf8.csv'])\n",
    "tm_viz.show_kakariuke_table(0, 10, 20)"
   ]
  },
  {
   "cell_type": "markdown",
   "metadata": {},
   "source": [
    "## 比率差グラフ"
   ]
  },
  {
   "cell_type": "markdown",
   "metadata": {},
   "source": [
    "* 3 検索\n",
    "![比率差グラフ](viz/foundation_3_検索_11.Q10_購入場所%28V%29_windsocks_fa3_v11_総数順_50.svg)"
   ]
  },
  {
   "cell_type": "markdown",
   "metadata": {},
   "source": [
    "----"
   ]
  },
  {
   "cell_type": "markdown",
   "metadata": {},
   "source": [
    "# 4 属性\n"
   ]
  },
  {
   "cell_type": "markdown",
   "metadata": {},
   "source": [
    "## 係り受け表"
   ]
  },
  {
   "cell_type": "raw",
   "metadata": {},
   "source": [
    "tm_viz = TMViz(['viz/foundation_4_連用_utf8.csv'])\n",
    "tm_viz.show_kakariuke_table(0, 10, 20)"
   ]
  },
  {
   "cell_type": "markdown",
   "metadata": {},
   "source": [
    "----"
   ]
  },
  {
   "cell_type": "markdown",
   "metadata": {},
   "source": [
    "# 5 属性\n"
   ]
  },
  {
   "cell_type": "markdown",
   "metadata": {},
   "source": [
    "## 係り受け表"
   ]
  },
  {
   "cell_type": "raw",
   "metadata": {},
   "source": [
    "tm_viz = TMViz(['viz/foundation_5_連用_utf8.csv'])\n",
    "tm_viz.show_kakariuke_table(0, 10, 20)"
   ]
  },
  {
   "cell_type": "raw",
   "metadata": {},
   "source": [
    "----"
   ]
  },
  {
   "cell_type": "markdown",
   "metadata": {},
   "source": [
    "# 6 属性\n"
   ]
  },
  {
   "cell_type": "markdown",
   "metadata": {},
   "source": [
    "## 係り受け表"
   ]
  },
  {
   "cell_type": "raw",
   "metadata": {},
   "source": [
    "tm_viz = TMViz(['viz/foundation_6_連用_utf8.csv'])\n",
    "tm_viz.show_kakariuke_table(0, 10, 20)"
   ]
  },
  {
   "cell_type": "raw",
   "metadata": {},
   "source": [
    "----"
   ]
  },
  {
   "cell_type": "markdown",
   "metadata": {},
   "source": [
    "# 7 属性\n"
   ]
  },
  {
   "cell_type": "markdown",
   "metadata": {},
   "source": [
    "## 係り受け表"
   ]
  },
  {
   "cell_type": "raw",
   "metadata": {},
   "source": [
    "tm_viz = TMViz(['viz/foundation_7_連用_utf8.csv'])\n",
    "tm_viz.show_kakariuke_table(0, 10, 20)"
   ]
  },
  {
   "cell_type": "markdown",
   "metadata": {},
   "source": [
    "----"
   ]
  },
  {
   "cell_type": "markdown",
   "metadata": {},
   "source": [
    "# 8 属性\n"
   ]
  },
  {
   "cell_type": "markdown",
   "metadata": {},
   "source": [
    "## 係り受け表"
   ]
  },
  {
   "cell_type": "code",
   "execution_count": null,
   "metadata": {},
   "outputs": [],
   "source": [
    "tm_viz = TMViz(['viz/foundation_8_連用_utf8.csv'])\n",
    "tm_viz.show_kakariuke_table(0, 10, 20)"
   ]
  },
  {
   "cell_type": "markdown",
   "metadata": {},
   "source": [
    "----"
   ]
  },
  {
   "cell_type": "markdown",
   "metadata": {},
   "source": [
    "# 9 属性\n"
   ]
  },
  {
   "cell_type": "markdown",
   "metadata": {},
   "source": [
    "## 係り受け表"
   ]
  },
  {
   "cell_type": "code",
   "execution_count": null,
   "metadata": {},
   "outputs": [],
   "source": [
    "tm_viz = TMViz(['viz/foundation_9_連用_utf8.csv'])\n",
    "tm_viz.show_kakariuke_table(0, 10, 20)"
   ]
  },
  {
   "cell_type": "markdown",
   "metadata": {},
   "source": [
    "----"
   ]
  },
  {
   "cell_type": "markdown",
   "metadata": {},
   "source": [
    "# 10 属性\n"
   ]
  },
  {
   "cell_type": "markdown",
   "metadata": {},
   "source": [
    "## 係り受け表"
   ]
  },
  {
   "cell_type": "code",
   "execution_count": null,
   "metadata": {},
   "outputs": [],
   "source": [
    "tm_viz = TMViz(['viz/foundation_10_連用_utf8.csv'])\n",
    "tm_viz.show_kakariuke_table(0, 10, 20)"
   ]
  },
  {
   "cell_type": "markdown",
   "metadata": {},
   "source": [
    "----"
   ]
  },
  {
   "cell_type": "markdown",
   "metadata": {},
   "source": [
    "# 11 属性\n"
   ]
  },
  {
   "cell_type": "markdown",
   "metadata": {},
   "source": [
    "## 係り受け表"
   ]
  },
  {
   "cell_type": "code",
   "execution_count": null,
   "metadata": {},
   "outputs": [],
   "source": [
    "tm_viz = TMViz(['viz/foundation_11_連用_utf8.csv'])\n",
    "tm_viz.show_kakariuke_table(0, 10, 20)"
   ]
  },
  {
   "cell_type": "markdown",
   "metadata": {},
   "source": [
    "----"
   ]
  },
  {
   "cell_type": "markdown",
   "metadata": {},
   "source": [
    "# 12 集合\n"
   ]
  },
  {
   "cell_type": "markdown",
   "metadata": {},
   "source": [
    "## 係り受け表"
   ]
  },
  {
   "cell_type": "code",
   "execution_count": null,
   "metadata": {},
   "outputs": [],
   "source": [
    "tm_viz = TMViz(['viz/foundation_12_連用_utf8.csv'])\n",
    "tm_viz.show_kakariuke_table(0, 10, 20)"
   ]
  },
  {
   "cell_type": "markdown",
   "metadata": {},
   "source": [
    "----"
   ]
  },
  {
   "cell_type": "markdown",
   "metadata": {},
   "source": [
    "# 13 集合\n"
   ]
  },
  {
   "cell_type": "markdown",
   "metadata": {},
   "source": [
    "## 係り受け表"
   ]
  },
  {
   "cell_type": "code",
   "execution_count": null,
   "metadata": {},
   "outputs": [],
   "source": [
    "tm_viz = TMViz(['viz/foundation_13_連用_utf8.csv'])\n",
    "tm_viz.show_kakariuke_table(0, 10, 20)"
   ]
  },
  {
   "cell_type": "markdown",
   "metadata": {},
   "source": [
    "----"
   ]
  },
  {
   "cell_type": "markdown",
   "metadata": {},
   "source": [
    "# 14 集合\n"
   ]
  },
  {
   "cell_type": "markdown",
   "metadata": {},
   "source": [
    "## 係り受け表"
   ]
  },
  {
   "cell_type": "code",
   "execution_count": null,
   "metadata": {},
   "outputs": [],
   "source": [
    "tm_viz = TMViz(['viz/foundation_14_連用_utf8.csv'])\n",
    "tm_viz.show_kakariuke_table(0, 10, 20)"
   ]
  },
  {
   "cell_type": "markdown",
   "metadata": {},
   "source": [
    "----"
   ]
  }
 ],
 "metadata": {
  "kernelspec": {
   "display_name": "Python 3",
   "language": "python",
   "name": "python3"
  },
  "language_info": {
   "codemirror_mode": {
    "name": "ipython",
    "version": 3
   },
   "file_extension": ".py",
   "mimetype": "text/x-python",
   "name": "python",
   "nbconvert_exporter": "python",
   "pygments_lexer": "ipython3",
   "version": "3.5.3"
  },
  "nbTranslate": {
   "displayLangs": [
    "*"
   ],
   "hotkey": "alt-t",
   "langInMainMenu": true,
   "sourceLang": "en",
   "targetLang": "fr",
   "useGoogleTranslate": true
  }
 },
 "nbformat": 4,
 "nbformat_minor": 1
}
