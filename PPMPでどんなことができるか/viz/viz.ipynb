{
 "cells": [
  {
   "cell_type": "code",
   "execution_count": null,
   "metadata": {
    "collapsed": false
   },
   "outputs": [],
   "source": [
    "import plotly\n",
    "plotly.offline.init_notebook_mode() # run at the start of every ipython notebook"
   ]
  },
  {
   "cell_type": "code",
   "execution_count": null,
   "metadata": {
    "collapsed": false
   },
   "outputs": [],
   "source": [
    "import plotly.offline as py\n",
    "import plotly.graph_objs as go\n",
    "\n",
    "import pandas as pd\n",
    "\n",
    "# Read data from a csv\n",
    "#z_data = pd.read_csv('https://raw.githubusercontent.com/plotly/datasets/master/api_docs/mt_bruno_elevation.csv')\n",
    "#z_data = pd.read_csv('nihongo_foundation_1_連用_utf8.csv')\n",
    "z_data1 = pd.read_csv('係り受け2/nihongo_foundation_1_連用_utf8.csv', encoding='cp932')\n",
    "z_data1.ix[:20, :20]"
   ]
  },
  {
   "cell_type": "code",
   "execution_count": null,
   "metadata": {
    "collapsed": true
   },
   "outputs": [],
   "source": [
    "import numpy as np"
   ]
  },
  {
   "cell_type": "code",
   "execution_count": null,
   "metadata": {
    "collapsed": false
   },
   "outputs": [],
   "source": [
    "import plotly.offline as py\n",
    "import plotly.graph_objs as go\n",
    "\n",
    "import pandas as pd\n",
    "from numpy import ma\n",
    "\n",
    "# Read data from a csv\n",
    "#z_data = pd.read_csv('https://raw.githubusercontent.com/plotly/datasets/master/api_docs/mt_bruno_elevation.csv')\n",
    "#z_data = pd.read_csv('nihongo_foundation_1_連用_utf8.csv')\n",
    "\n",
    "z_data1 = pd.read_csv('係り受け2/nihongo_foundation_1_連用_utf8.csv', encoding='cp932')\n",
    "z_data1x = z_data1.ix[1:100, 2:120]\n",
    "#z_data1 = np.power(z_data1, 0.5)\n",
    "z_data1x = np.where(z_data1x != 0, np.log(z_data1x), 0)\n",
    "#z_data1 = ma.filled(np.log(ma.masked_equal(z_data1, 0)))\n",
    "#np.seterr(divide='ignore')\n",
    "#z_data1 = np.log(z_data1)\n",
    "#np.seterr(divide='warn')\n",
    "\n",
    "#z_data1[np.isneginf(z_data1)] = 0\n",
    "#z_data1 = z_data1.ix[1:10, 2:12]\n",
    "\n",
    "z_data0 = pd.read_csv('係り受け2/nihongo_foundation_0_連用_utf8.csv', encoding='cp932')\n",
    "z_data0 = z_data0.ix[1:10, 2:12]\n"
   ]
  },
  {
   "cell_type": "code",
   "execution_count": null,
   "metadata": {
    "collapsed": false
   },
   "outputs": [],
   "source": [
    "z_data1x"
   ]
  },
  {
   "cell_type": "code",
   "execution_count": null,
   "metadata": {
    "collapsed": false,
    "scrolled": true
   },
   "outputs": [],
   "source": [
    "data = [\n",
    "    go.Surface(\n",
    "        z=z_data1x.T, #.as_matrix()\n",
    "        showlegend=False\n",
    "    )\n",
    "]\n",
    "layout = go.Layout(\n",
    "    title='係り受け頻度分布',\n",
    "    autosize=False,\n",
    "    width=500,\n",
    "    height=500,\n",
    "    margin=dict(\n",
    "        l=65,\n",
    "        r=50,\n",
    "        b=100,\n",
    "        t=100\n",
    "    )\n",
    ")\n",
    "fig = go.Figure(data=data, layout=layout)\n",
    "py.iplot(fig, filename='elevations-3d-surface')"
   ]
  },
  {
   "cell_type": "code",
   "execution_count": null,
   "metadata": {
    "collapsed": false
   },
   "outputs": [],
   "source": [
    "# https://plot.ly/python/3d-surface-plots/\n",
    "py.iplot([\n",
    "    dict(z=z_data1x.T, opacity=0.99, type='surface'),],\n",
    "    filename='multiple-surfaces')"
   ]
  },
  {
   "cell_type": "code",
   "execution_count": null,
   "metadata": {
    "collapsed": false
   },
   "outputs": [],
   "source": [
    "# https://plot.ly/python/3d-surface-plots/\n",
    "z2 = [[zij-4 for zij in zi] for zi in z_data1x.T]\n",
    "py.iplot([\n",
    "    dict(z=z_data1x.T, opacity=0.9, type='surface'),\n",
    "    dict(z=z2, showscale=False, opacity=0.9, type='surface')],\n",
    "    filename='multiple-surfaces')"
   ]
  },
  {
   "cell_type": "code",
   "execution_count": null,
   "metadata": {
    "collapsed": false
   },
   "outputs": [],
   "source": [
    "import plotly.plotly as py\n",
    "plotly.offline.init_notebook_mode() # run at the start of every ipython notebook\n",
    "from plotly.graph_objs import *\n",
    "\n",
    "import numpy as np\n",
    "\n",
    "s = np.linspace(0, 2 * np.pi, 240)\n",
    "t = np.linspace(0, np.pi, 240)\n",
    "tGrid, sGrid = np.meshgrid(s, t)\n",
    "\n",
    "r = 2 + np.sin(7 * sGrid + 5 * tGrid)  # r = 2 + sin(7s+5t)\n",
    "x = r * np.cos(sGrid) * np.sin(tGrid)  # x = r*cos(s)*sin(t)\n",
    "y = r * np.sin(sGrid) * np.sin(tGrid)  # y = r*sin(s)*sin(t)\n",
    "z = r * np.cos(tGrid)                  # z = r*cos(t)\n",
    "\n",
    "surface = Surface(x=x, y=y, z=z)\n",
    "data = Data([surface])\n",
    "\n",
    "layout = Layout(\n",
    "    title='Parametric Plot',\n",
    "    scene=Scene(\n",
    "        xaxis=XAxis(\n",
    "            gridcolor='rgb(255, 255, 255)',\n",
    "            zerolinecolor='rgb(255, 255, 255)',\n",
    "            showbackground=True,\n",
    "            backgroundcolor='rgb(230, 230,230)'\n",
    "        ),\n",
    "        yaxis=YAxis(\n",
    "            gridcolor='rgb(255, 255, 255)',\n",
    "            zerolinecolor='rgb(255, 255, 255)',\n",
    "            showbackground=True,\n",
    "            backgroundcolor='rgb(230, 230,230)'\n",
    "        ),\n",
    "        zaxis=ZAxis(\n",
    "            gridcolor='rgb(255, 255, 255)',\n",
    "            zerolinecolor='rgb(255, 255, 255)',\n",
    "            showbackground=True,\n",
    "            backgroundcolor='rgb(230, 230,230)'\n",
    "        )\n",
    "    )\n",
    ")\n",
    "\n",
    "fig = Figure(data=data, layout=layout)\n",
    "py.iplot(fig, filename='parametric_plot')"
   ]
  }
 ],
 "metadata": {
  "anaconda-cloud": {},
  "kernelspec": {
   "display_name": "Python 3",
   "language": "python",
   "name": "python3"
  },
  "language_info": {
   "codemirror_mode": {
    "name": "ipython",
    "version": 3
   },
   "file_extension": ".py",
   "mimetype": "text/x-python",
   "name": "python",
   "nbconvert_exporter": "python",
   "pygments_lexer": "ipython3",
   "version": "3.5.2"
  }
 },
 "nbformat": 4,
 "nbformat_minor": 1
}
