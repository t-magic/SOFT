{
 "cells": [
  {
            "cell_type": "markdown",
            "metadata": {},
            "source": [
             "# 解析レポート\n",
             "### フリーアンサー:Q3_好きなところ(FA) (3列目)"
            ]
           },
  {
            "cell_type": "code",
            "execution_count": null,
            "metadata": {
             "collapsed": false
            },
            "outputs": [],
            "source": [
             "%matplotlib inline\n",
             "import pandas as pd\n",
             "import sys\n",
             "sys.path.append('G:/SVN/TamaoProject/TextMagicKnime2Jupyter/progs')\n",
             "from tm_viz import *"
            ]
           },
  {
               "cell_type": "markdown",
               "metadata": {
               "collapsed": true
               },
               "source": [
                "# 目次\n",
                "| 目次 | 番号 | 親番号 | 種別 | 件数 | 積算件数 |\n",
                "|:-----------|:------------:|:------------:|:-----------|------------:|------------:|\n",
                "| [0 全体](#0-全体) | 0 | - | - | 10859 | 10859 |\n",
                "| [1 検索](#1-検索) | 1 | 0 | 3: カバー力, 価格, 肌, 値段 | 3659 | 3659 |\n",
                "| [2 属性](#2-属性) | 2 | 1 | 8: Q7_年代(V)=19歳以下 | 313 | 96 |\n",
                "| [3 属性](#3-属性) | 3 | 1 | 8: Q7_年代(V)=20-24歳 | 1260 | 460 |\n",
                "| [4 属性](#4-属性) | 4 | 1 | 8: Q7_年代(V)=25-29歳 | 2310 | 827 |\n",
                "| [5 属性](#5-属性) | 5 | 1 | 8: Q7_年代(V)=30-34歳 | 2792 | 941 |\n",
                "| [6 属性](#6-属性) | 6 | 1 | 8: Q7_年代(V)=35-39歳 | 1774 | 589 |\n",
                "| [7 属性](#7-属性) | 7 | 1 | 8: Q7_年代(V)=40-49歳 | 1761 | 562 |\n",
                "| [8 属性](#8-属性) | 8 | 1 | 8: Q7_年代(V)=50-59歳 | 542 | 154 |\n",
                "| [9 属性](#9-属性) | 9 | 1 | 8: Q7_年代(V)=60歳以上 | 107 | 30 |\n"
   ]
  }
,
  {
            "cell_type": "markdown",
            "metadata": {},
            "source": [
             "----"
            ]
           },
  {
            "cell_type": "markdown",
            "metadata": {},
            "source": [
             "# 0 全体\n"
            ]
           },
  {
            "cell_type": "markdown",
            "metadata": {},
            "source": [
             "## モザイクプロット"
            ]
           },
  {
            "cell_type": "markdown",
            "metadata": {},
            "source": [
             "* 0 全体\n",
    "![モザイクプロット](viz/foundation_0_全体_8.Q7_年代x11.Q10_購入場所_mosaic_plot_8-11_utf8.svg)\n"
            ]
           },
  {
            "cell_type": "markdown",
            "metadata": {},
            "source": [
             "## 語表\n"
            ]
           },
  {
            "cell_type": "code",
            "execution_count": null,
            "metadata": {
             "collapsed": false
            },
            "outputs": [],
            "source": [
             "x = pd.read_csv('viz/foundation_0_sorted_pos_word_stat_utf8.csv', encoding='utf8', index_col=None)\n","x.ix[:10, :]"
            ]
           },
  {
            "cell_type": "markdown",
            "metadata": {},
            "source": [
             "## 係り受け表"
            ]
           },
  {
            "cell_type": "code",
            "execution_count": null,
            "metadata": {
             "collapsed": false
            },
            "outputs": [],
            "source": [
             "tm_viz = TMViz(['viz/foundation_0_連用_utf8.csv'])\n",
            "tm_viz.show_kakariuke_table(0, 10, 20)"
            ]
           },
  {
            "cell_type": "code",
            "execution_count": null,
            "metadata": {
             "collapsed": false
            },
            "outputs": [],
            "source": [
             "tm_viz.show_kakariuke_graph('viz/foundation_0_連用_xyz_20x20_utf8.csv', False)"
            ]
           },
  {
            "cell_type": "markdown",
            "metadata": {},
            "source": [
             "## 原文表\n",
    "* [原文表](viz/foundation_0_htext_fa3_d3w20n20e100f1.html): foundation_0_htext_fa3_d3w20n20e100f1.html\n"
            ]
           },
  {
            "cell_type": "markdown",
            "metadata": {},
            "source": [
             "## 比率差グラフ"
            ]
           },
  {
            "cell_type": "markdown",
            "metadata": {},
            "source": [
             "* 0 全体\n",
    "![比率差グラフ](viz/foundation_0_全体_11.Q10_購入場所%28V%29_windsocks_fa3_v11_総数順_50.svg)"
            ]
           },
  {
            "cell_type": "markdown",
            "metadata": {},
            "source": [
             "## ウニグラフ"
            ]
           },
  {
            "cell_type": "markdown",
            "metadata": {},
            "source": [
             "* 0 全体 ([ノード数 = 20](viz/foundation_0_uni_fa3_d3w20n20e100f1_全体-fdp.svg))\n",
    "![ウニグラフ](viz/foundation_0_uni_fa3_d3w20n20e100f1_全体-fdp.svg)"
            ]
           },
  {
            "cell_type": "markdown",
            "metadata": {},
            "source": [
             "----"
            ]
           },
  {
            "cell_type": "markdown",
            "metadata": {},
            "source": [
             "# 1 検索\n"
            ]
           },
  {
            "cell_type": "markdown",
            "metadata": {},
            "source": [
             "## 係り受け表"
            ]
           },
  {
            "cell_type": "code",
            "execution_count": null,
            "metadata": {
             "collapsed": false
            },
            "outputs": [],
            "source": [
             "tm_viz = TMViz(['viz/foundation_1_連用_utf8.csv'])\n",
            "tm_viz.show_kakariuke_table(0, 10, 20)"
            ]
           },
  {
            "cell_type": "markdown",
            "metadata": {},
            "source": [
             "----"
            ]
           },
  {
            "cell_type": "markdown",
            "metadata": {},
            "source": [
             "# 2 属性\n"
            ]
           },
  {
            "cell_type": "markdown",
            "metadata": {},
            "source": [
             "## 係り受け表"
            ]
           },
  {
            "cell_type": "code",
            "execution_count": null,
            "metadata": {
             "collapsed": false
            },
            "outputs": [],
            "source": [
             "tm_viz = TMViz(['viz/foundation_2_連用_utf8.csv'])\n",
            "tm_viz.show_kakariuke_table(0, 10, 20)"
            ]
           },
  {
            "cell_type": "markdown",
            "metadata": {},
            "source": [
             "----"
            ]
           },
  {
            "cell_type": "markdown",
            "metadata": {},
            "source": [
             "# 3 属性\n"
            ]
           },
  {
            "cell_type": "markdown",
            "metadata": {},
            "source": [
             "## 係り受け表"
            ]
           },
  {
            "cell_type": "code",
            "execution_count": null,
            "metadata": {
             "collapsed": false
            },
            "outputs": [],
            "source": [
             "tm_viz = TMViz(['viz/foundation_3_連用_utf8.csv'])\n",
            "tm_viz.show_kakariuke_table(0, 10, 20)"
            ]
           },
  {
            "cell_type": "markdown",
            "metadata": {},
            "source": [
             "----"
            ]
           },
  {
            "cell_type": "markdown",
            "metadata": {},
            "source": [
             "# 4 属性\n"
            ]
           },
  {
            "cell_type": "markdown",
            "metadata": {},
            "source": [
             "## 係り受け表"
            ]
           },
  {
            "cell_type": "code",
            "execution_count": null,
            "metadata": {
             "collapsed": false
            },
            "outputs": [],
            "source": [
             "tm_viz = TMViz(['viz/foundation_4_連用_utf8.csv'])\n",
            "tm_viz.show_kakariuke_table(0, 10, 20)"
            ]
           },
  {
            "cell_type": "markdown",
            "metadata": {},
            "source": [
             "----"
            ]
           },
  {
            "cell_type": "markdown",
            "metadata": {},
            "source": [
             "# 5 属性\n"
            ]
           },
  {
            "cell_type": "markdown",
            "metadata": {},
            "source": [
             "## 係り受け表"
            ]
           },
  {
            "cell_type": "code",
            "execution_count": null,
            "metadata": {
             "collapsed": false
            },
            "outputs": [],
            "source": [
             "tm_viz = TMViz(['viz/foundation_5_連用_utf8.csv'])\n",
            "tm_viz.show_kakariuke_table(0, 10, 20)"
            ]
           },
  {
            "cell_type": "markdown",
            "metadata": {},
            "source": [
             "----"
            ]
           },
  {
            "cell_type": "markdown",
            "metadata": {},
            "source": [
             "# 6 属性\n"
            ]
           },
  {
            "cell_type": "markdown",
            "metadata": {},
            "source": [
             "## 係り受け表"
            ]
           },
  {
            "cell_type": "code",
            "execution_count": null,
            "metadata": {
             "collapsed": false
            },
            "outputs": [],
            "source": [
             "tm_viz = TMViz(['viz/foundation_6_連用_utf8.csv'])\n",
            "tm_viz.show_kakariuke_table(0, 10, 20)"
            ]
           },
  {
            "cell_type": "markdown",
            "metadata": {},
            "source": [
             "----"
            ]
           },
  {
            "cell_type": "markdown",
            "metadata": {},
            "source": [
             "# 7 属性\n"
            ]
           },
  {
            "cell_type": "markdown",
            "metadata": {},
            "source": [
             "## 係り受け表"
            ]
           },
  {
            "cell_type": "code",
            "execution_count": null,
            "metadata": {
             "collapsed": false
            },
            "outputs": [],
            "source": [
             "tm_viz = TMViz(['viz/foundation_7_連用_utf8.csv'])\n",
            "tm_viz.show_kakariuke_table(0, 10, 20)"
            ]
           },
  {
            "cell_type": "markdown",
            "metadata": {},
            "source": [
             "----"
            ]
           },
  {
            "cell_type": "markdown",
            "metadata": {},
            "source": [
             "# 8 属性\n"
            ]
           },
  {
            "cell_type": "markdown",
            "metadata": {},
            "source": [
             "## 係り受け表"
            ]
           },
  {
            "cell_type": "code",
            "execution_count": null,
            "metadata": {
             "collapsed": false
            },
            "outputs": [],
            "source": [
             "tm_viz = TMViz(['viz/foundation_8_連用_utf8.csv'])\n",
            "tm_viz.show_kakariuke_table(0, 10, 20)"
            ]
           },
  {
            "cell_type": "markdown",
            "metadata": {},
            "source": [
             "----"
            ]
           },
  {
            "cell_type": "markdown",
            "metadata": {},
            "source": [
             "# 9 属性\n"
            ]
           },
  {
            "cell_type": "markdown",
            "metadata": {},
            "source": [
             "## 係り受け表"
            ]
           },
  {
            "cell_type": "code",
            "execution_count": null,
            "metadata": {
             "collapsed": false
            },
            "outputs": [],
            "source": [
             "tm_viz = TMViz(['viz/foundation_9_連用_utf8.csv'])\n",
            "tm_viz.show_kakariuke_table(0, 10, 20)"
            ]
           },
  {
            "cell_type": "markdown",
            "metadata": {},
            "source": [
             "----"
            ]
           } ],
          "metadata": {
           "kernelspec": {
            "display_name": "Python 3",
            "language": "python",
            "name": "python3"
           },
           "language_info": {
            "codemirror_mode": {
             "name": "ipython",
             "version": 3
            },
            "file_extension": ".py",
            "mimetype": "text/x-python",
            "name": "python",
            "nbconvert_exporter": "python",
            "pygments_lexer": "ipython3",
            "version": "3.5.2"
           }
          },
          "nbformat": 4,
          "nbformat_minor": 1
         }
         